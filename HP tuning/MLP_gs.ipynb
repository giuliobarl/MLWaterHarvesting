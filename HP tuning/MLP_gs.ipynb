{
 "cells": [
  {
   "cell_type": "markdown",
   "metadata": {},
   "source": [
    "# Import libraries"
   ]
  },
  {
   "cell_type": "code",
   "execution_count": 1,
   "metadata": {},
   "outputs": [],
   "source": [
    "import numpy as np\n",
    "import pandas as pd\n",
    "from statistics import mean, stdev\n",
    "from sklearn.neural_network import MLPRegressor\n",
    "from sklearn import metrics\n",
    "from sklearn import preprocessing\n",
    "from sklearn.model_selection import train_test_split\n",
    "from sklearn.model_selection import cross_val_score\n",
    "from sklearn.model_selection import GridSearchCV\n",
    "from tqdm import tqdm"
   ]
  },
  {
   "cell_type": "markdown",
   "metadata": {},
   "source": [
    "# Data preprocessing"
   ]
  },
  {
   "cell_type": "markdown",
   "metadata": {},
   "source": [
    "### Read data from file"
   ]
  },
  {
   "cell_type": "code",
   "execution_count": 2,
   "metadata": {},
   "outputs": [
    {
     "name": "stdout",
     "output_type": "stream",
     "text": [
      "152 rows and 7 columns\n",
      "\n"
     ]
    }
   ],
   "source": [
    "#Read the file\n",
    "file_name = 'Harvesting data'\n",
    "data = pd.read_excel(file_name + '.xlsx', header=0)\n",
    "\n",
    "#Print number of rows and colums read\n",
    "print(\"{0} rows and {1} columns\".format(len(data.index), len(data.columns)))\n",
    "print(\"\")"
   ]
  },
  {
   "cell_type": "markdown",
   "metadata": {},
   "source": [
    "### Initialization"
   ]
  },
  {
   "cell_type": "code",
   "execution_count": 3,
   "metadata": {},
   "outputs": [],
   "source": [
    "#Defining X and Y\n",
    "X = data.drop(columns = ['Water_volume'], axis = 1)\n",
    "Y = data.Water_volume\n",
    "\n",
    "#Using Built in train test split function in sklearn\n",
    "bins = np.linspace(Y.min(), Y.max() + 0.1, 5)\n",
    "y_binned = np.digitize(Y, bins)\n",
    "\n",
    "\n",
    "params = {'activation' : ('logistic', 'tanh', 'relu'),\n",
    "          'hidden_layer_sizes' : [6, 9, 12],\n",
    "          'solver' : ['lbfgs'],\n",
    "          'max_iter' : [2000]}\n",
    "\n",
    "mlp = MLPRegressor()\n",
    "    \n",
    "gs = GridSearchCV(estimator = mlp, param_grid = params, scoring = 'r2', cv = 5)"
   ]
  },
  {
   "cell_type": "markdown",
   "metadata": {},
   "source": [
    "# Grid-search optimization"
   ]
  },
  {
   "cell_type": "code",
   "execution_count": 4,
   "metadata": {},
   "outputs": [
    {
     "name": "stderr",
     "output_type": "stream",
     "text": [
      "  2%|▏         | 1/50 [00:02<01:41,  2.07s/it]"
     ]
    },
    {
     "name": "stdout",
     "output_type": "stream",
     "text": [
      "Best score = 0.8714 using {'activation': 'logistic', 'hidden_layer_sizes': 6, 'max_iter': 2000, 'solver': 'lbfgs'}\n"
     ]
    },
    {
     "name": "stderr",
     "output_type": "stream",
     "text": [
      "  4%|▍         | 2/50 [00:04<01:54,  2.39s/it]"
     ]
    },
    {
     "name": "stdout",
     "output_type": "stream",
     "text": [
      "Best score = 0.8473 using {'activation': 'logistic', 'hidden_layer_sizes': 6, 'max_iter': 2000, 'solver': 'lbfgs'}\n"
     ]
    },
    {
     "name": "stderr",
     "output_type": "stream",
     "text": [
      "  6%|▌         | 3/50 [00:06<01:44,  2.23s/it]"
     ]
    },
    {
     "name": "stdout",
     "output_type": "stream",
     "text": [
      "Best score = 0.8875 using {'activation': 'logistic', 'hidden_layer_sizes': 9, 'max_iter': 2000, 'solver': 'lbfgs'}\n"
     ]
    },
    {
     "name": "stderr",
     "output_type": "stream",
     "text": [
      "  8%|▊         | 4/50 [00:08<01:43,  2.24s/it]"
     ]
    },
    {
     "name": "stdout",
     "output_type": "stream",
     "text": [
      "Best score = 0.8717 using {'activation': 'logistic', 'hidden_layer_sizes': 6, 'max_iter': 2000, 'solver': 'lbfgs'}\n"
     ]
    },
    {
     "name": "stderr",
     "output_type": "stream",
     "text": [
      " 10%|█         | 5/50 [00:11<01:38,  2.19s/it]"
     ]
    },
    {
     "name": "stdout",
     "output_type": "stream",
     "text": [
      "Best score = 0.8890 using {'activation': 'logistic', 'hidden_layer_sizes': 6, 'max_iter': 2000, 'solver': 'lbfgs'}\n"
     ]
    },
    {
     "name": "stderr",
     "output_type": "stream",
     "text": [
      " 12%|█▏        | 6/50 [00:13<01:35,  2.17s/it]"
     ]
    },
    {
     "name": "stdout",
     "output_type": "stream",
     "text": [
      "Best score = 0.8779 using {'activation': 'logistic', 'hidden_layer_sizes': 12, 'max_iter': 2000, 'solver': 'lbfgs'}\n"
     ]
    },
    {
     "name": "stderr",
     "output_type": "stream",
     "text": [
      " 14%|█▍        | 7/50 [00:15<01:35,  2.22s/it]"
     ]
    },
    {
     "name": "stdout",
     "output_type": "stream",
     "text": [
      "Best score = 0.8546 using {'activation': 'logistic', 'hidden_layer_sizes': 6, 'max_iter': 2000, 'solver': 'lbfgs'}\n"
     ]
    },
    {
     "name": "stderr",
     "output_type": "stream",
     "text": [
      " 16%|█▌        | 8/50 [00:17<01:36,  2.29s/it]"
     ]
    },
    {
     "name": "stdout",
     "output_type": "stream",
     "text": [
      "Best score = 0.8246 using {'activation': 'logistic', 'hidden_layer_sizes': 12, 'max_iter': 2000, 'solver': 'lbfgs'}\n"
     ]
    },
    {
     "name": "stderr",
     "output_type": "stream",
     "text": [
      " 18%|█▊        | 9/50 [00:20<01:41,  2.47s/it]"
     ]
    },
    {
     "name": "stdout",
     "output_type": "stream",
     "text": [
      "Best score = 0.8196 using {'activation': 'logistic', 'hidden_layer_sizes': 12, 'max_iter': 2000, 'solver': 'lbfgs'}\n"
     ]
    },
    {
     "name": "stderr",
     "output_type": "stream",
     "text": [
      " 20%|██        | 10/50 [00:23<01:37,  2.44s/it]"
     ]
    },
    {
     "name": "stdout",
     "output_type": "stream",
     "text": [
      "Best score = 0.8925 using {'activation': 'logistic', 'hidden_layer_sizes': 12, 'max_iter': 2000, 'solver': 'lbfgs'}\n"
     ]
    },
    {
     "name": "stderr",
     "output_type": "stream",
     "text": [
      " 22%|██▏       | 11/50 [00:25<01:32,  2.37s/it]"
     ]
    },
    {
     "name": "stdout",
     "output_type": "stream",
     "text": [
      "Best score = 0.8759 using {'activation': 'logistic', 'hidden_layer_sizes': 12, 'max_iter': 2000, 'solver': 'lbfgs'}\n"
     ]
    },
    {
     "name": "stderr",
     "output_type": "stream",
     "text": [
      " 24%|██▍       | 12/50 [00:27<01:31,  2.40s/it]"
     ]
    },
    {
     "name": "stdout",
     "output_type": "stream",
     "text": [
      "Best score = 0.8646 using {'activation': 'logistic', 'hidden_layer_sizes': 6, 'max_iter': 2000, 'solver': 'lbfgs'}\n"
     ]
    },
    {
     "name": "stderr",
     "output_type": "stream",
     "text": [
      " 26%|██▌       | 13/50 [00:30<01:36,  2.60s/it]"
     ]
    },
    {
     "name": "stdout",
     "output_type": "stream",
     "text": [
      "Best score = 0.8562 using {'activation': 'logistic', 'hidden_layer_sizes': 6, 'max_iter': 2000, 'solver': 'lbfgs'}\n"
     ]
    },
    {
     "name": "stderr",
     "output_type": "stream",
     "text": [
      " 28%|██▊       | 14/50 [00:33<01:31,  2.55s/it]"
     ]
    },
    {
     "name": "stdout",
     "output_type": "stream",
     "text": [
      "Best score = 0.8683 using {'activation': 'logistic', 'hidden_layer_sizes': 9, 'max_iter': 2000, 'solver': 'lbfgs'}\n"
     ]
    },
    {
     "name": "stderr",
     "output_type": "stream",
     "text": [
      " 30%|███       | 15/50 [00:35<01:24,  2.43s/it]"
     ]
    },
    {
     "name": "stdout",
     "output_type": "stream",
     "text": [
      "Best score = 0.8567 using {'activation': 'logistic', 'hidden_layer_sizes': 6, 'max_iter': 2000, 'solver': 'lbfgs'}\n"
     ]
    },
    {
     "name": "stderr",
     "output_type": "stream",
     "text": [
      " 32%|███▏      | 16/50 [00:37<01:17,  2.29s/it]"
     ]
    },
    {
     "name": "stdout",
     "output_type": "stream",
     "text": [
      "Best score = 0.8603 using {'activation': 'logistic', 'hidden_layer_sizes': 12, 'max_iter': 2000, 'solver': 'lbfgs'}\n"
     ]
    },
    {
     "name": "stderr",
     "output_type": "stream",
     "text": [
      " 34%|███▍      | 17/50 [00:39<01:15,  2.30s/it]"
     ]
    },
    {
     "name": "stdout",
     "output_type": "stream",
     "text": [
      "Best score = 0.8779 using {'activation': 'logistic', 'hidden_layer_sizes': 9, 'max_iter': 2000, 'solver': 'lbfgs'}\n"
     ]
    },
    {
     "name": "stderr",
     "output_type": "stream",
     "text": [
      " 36%|███▌      | 18/50 [00:41<01:08,  2.14s/it]"
     ]
    },
    {
     "name": "stdout",
     "output_type": "stream",
     "text": [
      "Best score = 0.8806 using {'activation': 'logistic', 'hidden_layer_sizes': 6, 'max_iter': 2000, 'solver': 'lbfgs'}\n"
     ]
    },
    {
     "name": "stderr",
     "output_type": "stream",
     "text": [
      " 38%|███▊      | 19/50 [00:43<01:06,  2.16s/it]"
     ]
    },
    {
     "name": "stdout",
     "output_type": "stream",
     "text": [
      "Best score = 0.8833 using {'activation': 'relu', 'hidden_layer_sizes': 9, 'max_iter': 2000, 'solver': 'lbfgs'}\n"
     ]
    },
    {
     "name": "stderr",
     "output_type": "stream",
     "text": [
      " 40%|████      | 20/50 [00:46<01:10,  2.35s/it]"
     ]
    },
    {
     "name": "stdout",
     "output_type": "stream",
     "text": [
      "Best score = 0.8405 using {'activation': 'logistic', 'hidden_layer_sizes': 6, 'max_iter': 2000, 'solver': 'lbfgs'}\n"
     ]
    },
    {
     "name": "stderr",
     "output_type": "stream",
     "text": [
      " 42%|████▏     | 21/50 [00:49<01:10,  2.43s/it]"
     ]
    },
    {
     "name": "stdout",
     "output_type": "stream",
     "text": [
      "Best score = 0.8571 using {'activation': 'relu', 'hidden_layer_sizes': 9, 'max_iter': 2000, 'solver': 'lbfgs'}\n"
     ]
    },
    {
     "name": "stderr",
     "output_type": "stream",
     "text": [
      " 44%|████▍     | 22/50 [00:51<01:04,  2.29s/it]"
     ]
    },
    {
     "name": "stdout",
     "output_type": "stream",
     "text": [
      "Best score = 0.8628 using {'activation': 'logistic', 'hidden_layer_sizes': 6, 'max_iter': 2000, 'solver': 'lbfgs'}\n"
     ]
    },
    {
     "name": "stderr",
     "output_type": "stream",
     "text": [
      " 46%|████▌     | 23/50 [00:53<01:01,  2.27s/it]"
     ]
    },
    {
     "name": "stdout",
     "output_type": "stream",
     "text": [
      "Best score = 0.8697 using {'activation': 'logistic', 'hidden_layer_sizes': 9, 'max_iter': 2000, 'solver': 'lbfgs'}\n"
     ]
    },
    {
     "name": "stderr",
     "output_type": "stream",
     "text": [
      " 48%|████▊     | 24/50 [00:55<01:01,  2.35s/it]"
     ]
    },
    {
     "name": "stdout",
     "output_type": "stream",
     "text": [
      "Best score = 0.8651 using {'activation': 'logistic', 'hidden_layer_sizes': 9, 'max_iter': 2000, 'solver': 'lbfgs'}\n"
     ]
    },
    {
     "name": "stderr",
     "output_type": "stream",
     "text": [
      " 50%|█████     | 25/50 [00:58<00:57,  2.32s/it]"
     ]
    },
    {
     "name": "stdout",
     "output_type": "stream",
     "text": [
      "Best score = 0.8481 using {'activation': 'logistic', 'hidden_layer_sizes': 9, 'max_iter': 2000, 'solver': 'lbfgs'}\n"
     ]
    },
    {
     "name": "stderr",
     "output_type": "stream",
     "text": [
      " 52%|█████▏    | 26/50 [01:01<00:59,  2.49s/it]"
     ]
    },
    {
     "name": "stdout",
     "output_type": "stream",
     "text": [
      "Best score = 0.8553 using {'activation': 'logistic', 'hidden_layer_sizes': 12, 'max_iter': 2000, 'solver': 'lbfgs'}\n"
     ]
    },
    {
     "name": "stderr",
     "output_type": "stream",
     "text": [
      " 54%|█████▍    | 27/50 [01:03<01:00,  2.61s/it]"
     ]
    },
    {
     "name": "stdout",
     "output_type": "stream",
     "text": [
      "Best score = 0.8497 using {'activation': 'relu', 'hidden_layer_sizes': 6, 'max_iter': 2000, 'solver': 'lbfgs'}\n"
     ]
    },
    {
     "name": "stderr",
     "output_type": "stream",
     "text": [
      " 56%|█████▌    | 28/50 [01:06<00:55,  2.54s/it]"
     ]
    },
    {
     "name": "stdout",
     "output_type": "stream",
     "text": [
      "Best score = 0.8503 using {'activation': 'logistic', 'hidden_layer_sizes': 6, 'max_iter': 2000, 'solver': 'lbfgs'}\n"
     ]
    },
    {
     "name": "stderr",
     "output_type": "stream",
     "text": [
      " 58%|█████▊    | 29/50 [01:08<00:53,  2.57s/it]"
     ]
    },
    {
     "name": "stdout",
     "output_type": "stream",
     "text": [
      "Best score = 0.8719 using {'activation': 'logistic', 'hidden_layer_sizes': 6, 'max_iter': 2000, 'solver': 'lbfgs'}\n"
     ]
    },
    {
     "name": "stderr",
     "output_type": "stream",
     "text": [
      " 60%|██████    | 30/50 [01:11<00:49,  2.47s/it]"
     ]
    },
    {
     "name": "stdout",
     "output_type": "stream",
     "text": [
      "Best score = 0.8457 using {'activation': 'logistic', 'hidden_layer_sizes': 9, 'max_iter': 2000, 'solver': 'lbfgs'}\n"
     ]
    },
    {
     "name": "stderr",
     "output_type": "stream",
     "text": [
      " 62%|██████▏   | 31/50 [01:13<00:47,  2.51s/it]"
     ]
    },
    {
     "name": "stdout",
     "output_type": "stream",
     "text": [
      "Best score = 0.8854 using {'activation': 'logistic', 'hidden_layer_sizes': 6, 'max_iter': 2000, 'solver': 'lbfgs'}\n"
     ]
    },
    {
     "name": "stderr",
     "output_type": "stream",
     "text": [
      " 64%|██████▍   | 32/50 [01:16<00:45,  2.50s/it]"
     ]
    },
    {
     "name": "stdout",
     "output_type": "stream",
     "text": [
      "Best score = 0.8246 using {'activation': 'logistic', 'hidden_layer_sizes': 6, 'max_iter': 2000, 'solver': 'lbfgs'}\n"
     ]
    },
    {
     "name": "stderr",
     "output_type": "stream",
     "text": [
      " 66%|██████▌   | 33/50 [01:18<00:41,  2.46s/it]"
     ]
    },
    {
     "name": "stdout",
     "output_type": "stream",
     "text": [
      "Best score = 0.8629 using {'activation': 'relu', 'hidden_layer_sizes': 12, 'max_iter': 2000, 'solver': 'lbfgs'}\n"
     ]
    },
    {
     "name": "stderr",
     "output_type": "stream",
     "text": [
      " 68%|██████▊   | 34/50 [01:20<00:38,  2.39s/it]"
     ]
    },
    {
     "name": "stdout",
     "output_type": "stream",
     "text": [
      "Best score = 0.8247 using {'activation': 'logistic', 'hidden_layer_sizes': 9, 'max_iter': 2000, 'solver': 'lbfgs'}\n"
     ]
    },
    {
     "name": "stderr",
     "output_type": "stream",
     "text": [
      " 70%|███████   | 35/50 [01:23<00:34,  2.33s/it]"
     ]
    },
    {
     "name": "stdout",
     "output_type": "stream",
     "text": [
      "Best score = 0.8569 using {'activation': 'logistic', 'hidden_layer_sizes': 9, 'max_iter': 2000, 'solver': 'lbfgs'}\n"
     ]
    },
    {
     "name": "stderr",
     "output_type": "stream",
     "text": [
      " 72%|███████▏  | 36/50 [01:25<00:33,  2.40s/it]"
     ]
    },
    {
     "name": "stdout",
     "output_type": "stream",
     "text": [
      "Best score = 0.8593 using {'activation': 'logistic', 'hidden_layer_sizes': 9, 'max_iter': 2000, 'solver': 'lbfgs'}\n"
     ]
    },
    {
     "name": "stderr",
     "output_type": "stream",
     "text": [
      " 74%|███████▍  | 37/50 [01:27<00:30,  2.33s/it]"
     ]
    },
    {
     "name": "stdout",
     "output_type": "stream",
     "text": [
      "Best score = 0.8882 using {'activation': 'logistic', 'hidden_layer_sizes': 6, 'max_iter': 2000, 'solver': 'lbfgs'}\n"
     ]
    },
    {
     "name": "stderr",
     "output_type": "stream",
     "text": [
      " 76%|███████▌  | 38/50 [01:30<00:28,  2.36s/it]"
     ]
    },
    {
     "name": "stdout",
     "output_type": "stream",
     "text": [
      "Best score = 0.8656 using {'activation': 'logistic', 'hidden_layer_sizes': 9, 'max_iter': 2000, 'solver': 'lbfgs'}\n"
     ]
    },
    {
     "name": "stderr",
     "output_type": "stream",
     "text": [
      " 78%|███████▊  | 39/50 [01:32<00:26,  2.41s/it]"
     ]
    },
    {
     "name": "stdout",
     "output_type": "stream",
     "text": [
      "Best score = 0.8359 using {'activation': 'logistic', 'hidden_layer_sizes': 9, 'max_iter': 2000, 'solver': 'lbfgs'}\n"
     ]
    },
    {
     "name": "stderr",
     "output_type": "stream",
     "text": [
      " 80%|████████  | 40/50 [01:35<00:23,  2.36s/it]"
     ]
    },
    {
     "name": "stdout",
     "output_type": "stream",
     "text": [
      "Best score = 0.8824 using {'activation': 'logistic', 'hidden_layer_sizes': 9, 'max_iter': 2000, 'solver': 'lbfgs'}\n"
     ]
    },
    {
     "name": "stderr",
     "output_type": "stream",
     "text": [
      " 82%|████████▏ | 41/50 [01:37<00:20,  2.31s/it]"
     ]
    },
    {
     "name": "stdout",
     "output_type": "stream",
     "text": [
      "Best score = 0.8591 using {'activation': 'logistic', 'hidden_layer_sizes': 9, 'max_iter': 2000, 'solver': 'lbfgs'}\n"
     ]
    },
    {
     "name": "stderr",
     "output_type": "stream",
     "text": [
      " 84%|████████▍ | 42/50 [01:39<00:18,  2.35s/it]"
     ]
    },
    {
     "name": "stdout",
     "output_type": "stream",
     "text": [
      "Best score = 0.8493 using {'activation': 'relu', 'hidden_layer_sizes': 12, 'max_iter': 2000, 'solver': 'lbfgs'}\n"
     ]
    },
    {
     "name": "stderr",
     "output_type": "stream",
     "text": [
      " 86%|████████▌ | 43/50 [01:42<00:16,  2.37s/it]"
     ]
    },
    {
     "name": "stdout",
     "output_type": "stream",
     "text": [
      "Best score = 0.8639 using {'activation': 'logistic', 'hidden_layer_sizes': 9, 'max_iter': 2000, 'solver': 'lbfgs'}\n"
     ]
    },
    {
     "name": "stderr",
     "output_type": "stream",
     "text": [
      " 88%|████████▊ | 44/50 [01:44<00:13,  2.31s/it]"
     ]
    },
    {
     "name": "stdout",
     "output_type": "stream",
     "text": [
      "Best score = 0.8567 using {'activation': 'logistic', 'hidden_layer_sizes': 6, 'max_iter': 2000, 'solver': 'lbfgs'}\n"
     ]
    },
    {
     "name": "stderr",
     "output_type": "stream",
     "text": [
      " 90%|█████████ | 45/50 [01:46<00:11,  2.25s/it]"
     ]
    },
    {
     "name": "stdout",
     "output_type": "stream",
     "text": [
      "Best score = 0.8677 using {'activation': 'logistic', 'hidden_layer_sizes': 9, 'max_iter': 2000, 'solver': 'lbfgs'}\n"
     ]
    },
    {
     "name": "stderr",
     "output_type": "stream",
     "text": [
      " 92%|█████████▏| 46/50 [01:48<00:09,  2.31s/it]"
     ]
    },
    {
     "name": "stdout",
     "output_type": "stream",
     "text": [
      "Best score = 0.8258 using {'activation': 'logistic', 'hidden_layer_sizes': 12, 'max_iter': 2000, 'solver': 'lbfgs'}\n"
     ]
    },
    {
     "name": "stderr",
     "output_type": "stream",
     "text": [
      " 94%|█████████▍| 47/50 [01:51<00:07,  2.36s/it]"
     ]
    },
    {
     "name": "stdout",
     "output_type": "stream",
     "text": [
      "Best score = 0.8663 using {'activation': 'logistic', 'hidden_layer_sizes': 12, 'max_iter': 2000, 'solver': 'lbfgs'}\n"
     ]
    },
    {
     "name": "stderr",
     "output_type": "stream",
     "text": [
      " 96%|█████████▌| 48/50 [01:53<00:04,  2.38s/it]"
     ]
    },
    {
     "name": "stdout",
     "output_type": "stream",
     "text": [
      "Best score = 0.8399 using {'activation': 'logistic', 'hidden_layer_sizes': 9, 'max_iter': 2000, 'solver': 'lbfgs'}\n"
     ]
    },
    {
     "name": "stderr",
     "output_type": "stream",
     "text": [
      " 98%|█████████▊| 49/50 [01:55<00:02,  2.24s/it]"
     ]
    },
    {
     "name": "stdout",
     "output_type": "stream",
     "text": [
      "Best score = 0.8620 using {'activation': 'relu', 'hidden_layer_sizes': 9, 'max_iter': 2000, 'solver': 'lbfgs'}\n"
     ]
    },
    {
     "name": "stderr",
     "output_type": "stream",
     "text": [
      "100%|██████████| 50/50 [01:58<00:00,  2.37s/it]"
     ]
    },
    {
     "name": "stdout",
     "output_type": "stream",
     "text": [
      "Best score = 0.8810 using {'activation': 'relu', 'hidden_layer_sizes': 12, 'max_iter': 2000, 'solver': 'lbfgs'}\n"
     ]
    },
    {
     "name": "stderr",
     "output_type": "stream",
     "text": [
      "\n"
     ]
    }
   ],
   "source": [
    "for i in tqdm(range(50)):\n",
    "    data_train, data_test = train_test_split(data, test_size = 0.2,\n",
    "                                                stratify = y_binned, random_state = i)\n",
    "    \n",
    "    #Hacking a scaling but keeping columns names since min_max_scaler does not return a dataframe\n",
    "    minval = data_train.min()\n",
    "    minmax = data_train.max() - data_train.min()\n",
    "    data_train_scaled = (data_train - minval) / minmax\n",
    "    data_test_scaled = (data_test - minval) / minmax\n",
    "    \n",
    "    #Define X and Y\n",
    "    X_train = data_train_scaled.drop(columns = ['Water_volume'], axis=1)\n",
    "    Y_train = data_train_scaled.Water_volume\n",
    "    X_test = data_test_scaled.drop(columns = ['Water_volume'], axis=1)\n",
    "    Y_test = data_test_scaled.Water_volume\n",
    "    \n",
    "    \n",
    "    # fitting the model for grid search\n",
    "    grid_result = gs.fit(X_train, Y_train)\n",
    "    \n",
    "    print('Best score = {:.4f} using {}'.format(gs.best_score_,\n",
    "                                            gs.best_params_))"
   ]
  }
 ],
 "metadata": {
  "kernelspec": {
   "display_name": "myenv",
   "language": "python",
   "name": "python3"
  },
  "language_info": {
   "codemirror_mode": {
    "name": "ipython",
    "version": 3
   },
   "file_extension": ".py",
   "mimetype": "text/x-python",
   "name": "python",
   "nbconvert_exporter": "python",
   "pygments_lexer": "ipython3",
   "version": "3.12.3"
  }
 },
 "nbformat": 4,
 "nbformat_minor": 2
}
